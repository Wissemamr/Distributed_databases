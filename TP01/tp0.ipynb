{
 "cells": [
  {
   "cell_type": "code",
   "execution_count": 137,
   "metadata": {},
   "outputs": [
    {
     "name": "stdout",
     "output_type": "stream",
     "text": [
      "2.1.3\n"
     ]
    }
   ],
   "source": [
    "import pandas as pd\n",
    "\n",
    "print(pd.__version__)"
   ]
  },
  {
   "cell_type": "markdown",
   "metadata": {},
   "source": [
    "### Step 01 : Discuss the content of the csv file"
   ]
  },
  {
   "cell_type": "markdown",
   "metadata": {},
   "source": [
    "We can observe that the columns have no name, we should add a header\n",
    "\n",
    "A `header` is the first row that contains the names of the columns"
   ]
  },
  {
   "cell_type": "code",
   "execution_count": 138,
   "metadata": {},
   "outputs": [],
   "source": [
    "df = pd.read_csv(\"data\\\\oil-spill.csv\", header=None, index_col=0)"
   ]
  },
  {
   "cell_type": "code",
   "execution_count": 139,
   "metadata": {},
   "outputs": [
    {
     "data": {
      "text/html": [
       "<div>\n",
       "<style scoped>\n",
       "    .dataframe tbody tr th:only-of-type {\n",
       "        vertical-align: middle;\n",
       "    }\n",
       "\n",
       "    .dataframe tbody tr th {\n",
       "        vertical-align: top;\n",
       "    }\n",
       "\n",
       "    .dataframe thead th {\n",
       "        text-align: right;\n",
       "    }\n",
       "</style>\n",
       "<table border=\"1\" class=\"dataframe\">\n",
       "  <thead>\n",
       "    <tr style=\"text-align: right;\">\n",
       "      <th></th>\n",
       "      <th>1</th>\n",
       "      <th>2</th>\n",
       "      <th>3</th>\n",
       "      <th>4</th>\n",
       "      <th>5</th>\n",
       "      <th>6</th>\n",
       "      <th>7</th>\n",
       "      <th>8</th>\n",
       "      <th>9</th>\n",
       "      <th>10</th>\n",
       "      <th>...</th>\n",
       "      <th>40</th>\n",
       "      <th>41</th>\n",
       "      <th>42</th>\n",
       "      <th>43</th>\n",
       "      <th>44</th>\n",
       "      <th>45</th>\n",
       "      <th>46</th>\n",
       "      <th>47</th>\n",
       "      <th>48</th>\n",
       "      <th>49</th>\n",
       "    </tr>\n",
       "    <tr>\n",
       "      <th>0</th>\n",
       "      <th></th>\n",
       "      <th></th>\n",
       "      <th></th>\n",
       "      <th></th>\n",
       "      <th></th>\n",
       "      <th></th>\n",
       "      <th></th>\n",
       "      <th></th>\n",
       "      <th></th>\n",
       "      <th></th>\n",
       "      <th></th>\n",
       "      <th></th>\n",
       "      <th></th>\n",
       "      <th></th>\n",
       "      <th></th>\n",
       "      <th></th>\n",
       "      <th></th>\n",
       "      <th></th>\n",
       "      <th></th>\n",
       "      <th></th>\n",
       "      <th></th>\n",
       "    </tr>\n",
       "  </thead>\n",
       "  <tbody>\n",
       "    <tr>\n",
       "      <th>1</th>\n",
       "      <td>2558</td>\n",
       "      <td>1506.09</td>\n",
       "      <td>456.63</td>\n",
       "      <td>90</td>\n",
       "      <td>6395000.0</td>\n",
       "      <td>40.88</td>\n",
       "      <td>7.89</td>\n",
       "      <td>29780.0</td>\n",
       "      <td>0.19</td>\n",
       "      <td>214.7</td>\n",
       "      <td>...</td>\n",
       "      <td>2850.00</td>\n",
       "      <td>1000.00</td>\n",
       "      <td>763.16</td>\n",
       "      <td>135.46</td>\n",
       "      <td>3.73</td>\n",
       "      <td>0</td>\n",
       "      <td>33243.19</td>\n",
       "      <td>65.74</td>\n",
       "      <td>7.95</td>\n",
       "      <td>1</td>\n",
       "    </tr>\n",
       "    <tr>\n",
       "      <th>2</th>\n",
       "      <td>22325</td>\n",
       "      <td>79.11</td>\n",
       "      <td>841.03</td>\n",
       "      <td>180</td>\n",
       "      <td>55812500.0</td>\n",
       "      <td>51.11</td>\n",
       "      <td>1.21</td>\n",
       "      <td>61900.0</td>\n",
       "      <td>0.02</td>\n",
       "      <td>901.7</td>\n",
       "      <td>...</td>\n",
       "      <td>5750.00</td>\n",
       "      <td>11500.00</td>\n",
       "      <td>9593.48</td>\n",
       "      <td>1648.80</td>\n",
       "      <td>0.60</td>\n",
       "      <td>0</td>\n",
       "      <td>51572.04</td>\n",
       "      <td>65.73</td>\n",
       "      <td>6.26</td>\n",
       "      <td>0</td>\n",
       "    </tr>\n",
       "    <tr>\n",
       "      <th>3</th>\n",
       "      <td>115</td>\n",
       "      <td>1449.85</td>\n",
       "      <td>608.43</td>\n",
       "      <td>88</td>\n",
       "      <td>287500.0</td>\n",
       "      <td>40.42</td>\n",
       "      <td>7.34</td>\n",
       "      <td>3340.0</td>\n",
       "      <td>0.18</td>\n",
       "      <td>86.1</td>\n",
       "      <td>...</td>\n",
       "      <td>1400.00</td>\n",
       "      <td>250.00</td>\n",
       "      <td>150.00</td>\n",
       "      <td>45.13</td>\n",
       "      <td>9.33</td>\n",
       "      <td>1</td>\n",
       "      <td>31692.84</td>\n",
       "      <td>65.81</td>\n",
       "      <td>7.84</td>\n",
       "      <td>1</td>\n",
       "    </tr>\n",
       "    <tr>\n",
       "      <th>4</th>\n",
       "      <td>1201</td>\n",
       "      <td>1562.53</td>\n",
       "      <td>295.65</td>\n",
       "      <td>66</td>\n",
       "      <td>3002500.0</td>\n",
       "      <td>42.40</td>\n",
       "      <td>7.97</td>\n",
       "      <td>18030.0</td>\n",
       "      <td>0.19</td>\n",
       "      <td>166.5</td>\n",
       "      <td>...</td>\n",
       "      <td>6041.52</td>\n",
       "      <td>761.58</td>\n",
       "      <td>453.21</td>\n",
       "      <td>144.97</td>\n",
       "      <td>13.33</td>\n",
       "      <td>1</td>\n",
       "      <td>37696.21</td>\n",
       "      <td>65.67</td>\n",
       "      <td>8.07</td>\n",
       "      <td>1</td>\n",
       "    </tr>\n",
       "    <tr>\n",
       "      <th>5</th>\n",
       "      <td>312</td>\n",
       "      <td>950.27</td>\n",
       "      <td>440.86</td>\n",
       "      <td>37</td>\n",
       "      <td>780000.0</td>\n",
       "      <td>41.43</td>\n",
       "      <td>7.03</td>\n",
       "      <td>3350.0</td>\n",
       "      <td>0.17</td>\n",
       "      <td>232.8</td>\n",
       "      <td>...</td>\n",
       "      <td>1320.04</td>\n",
       "      <td>710.63</td>\n",
       "      <td>512.54</td>\n",
       "      <td>109.16</td>\n",
       "      <td>2.58</td>\n",
       "      <td>0</td>\n",
       "      <td>29038.17</td>\n",
       "      <td>65.66</td>\n",
       "      <td>7.35</td>\n",
       "      <td>0</td>\n",
       "    </tr>\n",
       "  </tbody>\n",
       "</table>\n",
       "<p>5 rows × 49 columns</p>\n",
       "</div>"
      ],
      "text/plain": [
       "      1        2       3    4           5      6     7        8     9      10  \\\n",
       "0                                                                               \n",
       "1   2558  1506.09  456.63   90   6395000.0  40.88  7.89  29780.0  0.19  214.7   \n",
       "2  22325    79.11  841.03  180  55812500.0  51.11  1.21  61900.0  0.02  901.7   \n",
       "3    115  1449.85  608.43   88    287500.0  40.42  7.34   3340.0  0.18   86.1   \n",
       "4   1201  1562.53  295.65   66   3002500.0  42.40  7.97  18030.0  0.19  166.5   \n",
       "5    312   950.27  440.86   37    780000.0  41.43  7.03   3350.0  0.17  232.8   \n",
       "\n",
       "   ...       40        41       42       43     44  45        46     47    48  \\\n",
       "0  ...                                                                          \n",
       "1  ...  2850.00   1000.00   763.16   135.46   3.73   0  33243.19  65.74  7.95   \n",
       "2  ...  5750.00  11500.00  9593.48  1648.80   0.60   0  51572.04  65.73  6.26   \n",
       "3  ...  1400.00    250.00   150.00    45.13   9.33   1  31692.84  65.81  7.84   \n",
       "4  ...  6041.52    761.58   453.21   144.97  13.33   1  37696.21  65.67  8.07   \n",
       "5  ...  1320.04    710.63   512.54   109.16   2.58   0  29038.17  65.66  7.35   \n",
       "\n",
       "   49  \n",
       "0      \n",
       "1   1  \n",
       "2   0  \n",
       "3   1  \n",
       "4   1  \n",
       "5   0  \n",
       "\n",
       "[5 rows x 49 columns]"
      ]
     },
     "execution_count": 139,
     "metadata": {},
     "output_type": "execute_result"
    }
   ],
   "source": [
    "df.head()"
   ]
  },
  {
   "cell_type": "code",
   "execution_count": 140,
   "metadata": {},
   "outputs": [
    {
     "data": {
      "text/plain": [
       "Index([ 1,  2,  3,  4,  5,  6,  7,  8,  9, 10, 11, 12, 13, 14, 15, 16, 17, 18,\n",
       "       19, 20, 21, 22, 23, 24, 25, 26, 27, 28, 29, 30, 31, 32, 33, 34, 35, 36,\n",
       "       37, 38, 39, 40, 41, 42, 43, 44, 45, 46, 47, 48, 49],\n",
       "      dtype='int64')"
      ]
     },
     "execution_count": 140,
     "metadata": {},
     "output_type": "execute_result"
    }
   ],
   "source": [
    "df.columns"
   ]
  },
  {
   "cell_type": "markdown",
   "metadata": {},
   "source": [
    "We notice that we have 48 columns, plus the target variable, column 49 which represent the presence(1) or absence (0) of hydrocarbon spill"
   ]
  },
  {
   "cell_type": "code",
   "execution_count": 141,
   "metadata": {},
   "outputs": [
    {
     "data": {
      "text/plain": [
       "49\n",
       "0    896\n",
       "1     41\n",
       "Name: count, dtype: int64"
      ]
     },
     "execution_count": 141,
     "metadata": {},
     "output_type": "execute_result"
    }
   ],
   "source": [
    "# let's see the distribution of the target variable\n",
    "df[49].value_counts()\n"
   ]
  },
  {
   "cell_type": "code",
   "execution_count": 142,
   "metadata": {},
   "outputs": [
    {
     "data": {
      "image/png": "[encoded data removed]",
      "text/plain": [
       "<Figure size 800x600 with 1 Axes>"
      ]
     },
     "metadata": {},
     "output_type": "display_data"
    }
   ],
   "source": [
    "import matplotlib.pyplot as plt\n",
    "target_counts = df[49].value_counts()\n",
    "\n",
    "plt.figure(figsize=(8, 6))\n",
    "plt.pie(target_counts, labels=target_counts.index, autopct='%1.1f%%', startangle=140, colors=['skyblue', 'lightcoral'])\n",
    "plt.title('Pie Chart of Target Variable')\n",
    "plt.axis('equal')  \n",
    "plt.show()"
   ]
  },
  {
   "cell_type": "code",
   "execution_count": 143,
   "metadata": {},
   "outputs": [
    {
     "data": {
      "text/html": [
       "<div>\n",
       "<style scoped>\n",
       "    .dataframe tbody tr th:only-of-type {\n",
       "        vertical-align: middle;\n",
       "    }\n",
       "\n",
       "    .dataframe tbody tr th {\n",
       "        vertical-align: top;\n",
       "    }\n",
       "\n",
       "    .dataframe thead th {\n",
       "        text-align: right;\n",
       "    }\n",
       "</style>\n",
       "<table border=\"1\" class=\"dataframe\">\n",
       "  <thead>\n",
       "    <tr style=\"text-align: right;\">\n",
       "      <th></th>\n",
       "      <th>1</th>\n",
       "      <th>2</th>\n",
       "      <th>3</th>\n",
       "      <th>4</th>\n",
       "      <th>5</th>\n",
       "      <th>6</th>\n",
       "      <th>7</th>\n",
       "      <th>8</th>\n",
       "      <th>9</th>\n",
       "      <th>10</th>\n",
       "      <th>...</th>\n",
       "      <th>40</th>\n",
       "      <th>41</th>\n",
       "      <th>42</th>\n",
       "      <th>43</th>\n",
       "      <th>44</th>\n",
       "      <th>45</th>\n",
       "      <th>46</th>\n",
       "      <th>47</th>\n",
       "      <th>48</th>\n",
       "      <th>49</th>\n",
       "    </tr>\n",
       "  </thead>\n",
       "  <tbody>\n",
       "    <tr>\n",
       "      <th>count</th>\n",
       "      <td>937.000000</td>\n",
       "      <td>937.000000</td>\n",
       "      <td>937.000000</td>\n",
       "      <td>937.000000</td>\n",
       "      <td>9.370000e+02</td>\n",
       "      <td>937.000000</td>\n",
       "      <td>937.000000</td>\n",
       "      <td>937.000000</td>\n",
       "      <td>937.000000</td>\n",
       "      <td>937.000000</td>\n",
       "      <td>...</td>\n",
       "      <td>937.000000</td>\n",
       "      <td>937.000000</td>\n",
       "      <td>937.000000</td>\n",
       "      <td>937.000000</td>\n",
       "      <td>937.000000</td>\n",
       "      <td>937.000000</td>\n",
       "      <td>937.000000</td>\n",
       "      <td>937.000000</td>\n",
       "      <td>937.000000</td>\n",
       "      <td>937.000000</td>\n",
       "    </tr>\n",
       "    <tr>\n",
       "      <th>mean</th>\n",
       "      <td>332.842049</td>\n",
       "      <td>698.707086</td>\n",
       "      <td>870.992209</td>\n",
       "      <td>84.121665</td>\n",
       "      <td>7.696964e+05</td>\n",
       "      <td>43.242721</td>\n",
       "      <td>9.127887</td>\n",
       "      <td>3940.712914</td>\n",
       "      <td>0.221003</td>\n",
       "      <td>109.892743</td>\n",
       "      <td>...</td>\n",
       "      <td>933.928677</td>\n",
       "      <td>427.565582</td>\n",
       "      <td>255.435902</td>\n",
       "      <td>106.112519</td>\n",
       "      <td>5.014002</td>\n",
       "      <td>0.128068</td>\n",
       "      <td>7985.718004</td>\n",
       "      <td>61.694386</td>\n",
       "      <td>8.119723</td>\n",
       "      <td>0.043757</td>\n",
       "    </tr>\n",
       "    <tr>\n",
       "      <th>std</th>\n",
       "      <td>1931.938570</td>\n",
       "      <td>599.965577</td>\n",
       "      <td>522.799325</td>\n",
       "      <td>45.361771</td>\n",
       "      <td>3.831151e+06</td>\n",
       "      <td>12.718404</td>\n",
       "      <td>3.588878</td>\n",
       "      <td>8167.427625</td>\n",
       "      <td>0.090316</td>\n",
       "      <td>61.460846</td>\n",
       "      <td>...</td>\n",
       "      <td>1001.681331</td>\n",
       "      <td>715.391648</td>\n",
       "      <td>534.306194</td>\n",
       "      <td>135.617708</td>\n",
       "      <td>5.029151</td>\n",
       "      <td>0.334344</td>\n",
       "      <td>6854.504915</td>\n",
       "      <td>10.412807</td>\n",
       "      <td>2.908895</td>\n",
       "      <td>0.204662</td>\n",
       "    </tr>\n",
       "    <tr>\n",
       "      <th>min</th>\n",
       "      <td>10.000000</td>\n",
       "      <td>1.920000</td>\n",
       "      <td>1.000000</td>\n",
       "      <td>0.000000</td>\n",
       "      <td>7.031200e+04</td>\n",
       "      <td>21.240000</td>\n",
       "      <td>0.830000</td>\n",
       "      <td>667.000000</td>\n",
       "      <td>0.020000</td>\n",
       "      <td>41.000000</td>\n",
       "      <td>...</td>\n",
       "      <td>0.000000</td>\n",
       "      <td>0.000000</td>\n",
       "      <td>0.000000</td>\n",
       "      <td>0.000000</td>\n",
       "      <td>0.000000</td>\n",
       "      <td>0.000000</td>\n",
       "      <td>2051.500000</td>\n",
       "      <td>35.950000</td>\n",
       "      <td>5.810000</td>\n",
       "      <td>0.000000</td>\n",
       "    </tr>\n",
       "    <tr>\n",
       "      <th>25%</th>\n",
       "      <td>20.000000</td>\n",
       "      <td>85.270000</td>\n",
       "      <td>444.200000</td>\n",
       "      <td>54.000000</td>\n",
       "      <td>1.250000e+05</td>\n",
       "      <td>33.650000</td>\n",
       "      <td>6.750000</td>\n",
       "      <td>1371.000000</td>\n",
       "      <td>0.160000</td>\n",
       "      <td>83.500000</td>\n",
       "      <td>...</td>\n",
       "      <td>450.000000</td>\n",
       "      <td>180.000000</td>\n",
       "      <td>90.800000</td>\n",
       "      <td>50.120000</td>\n",
       "      <td>2.370000</td>\n",
       "      <td>0.000000</td>\n",
       "      <td>3760.570000</td>\n",
       "      <td>65.720000</td>\n",
       "      <td>6.340000</td>\n",
       "      <td>0.000000</td>\n",
       "    </tr>\n",
       "    <tr>\n",
       "      <th>50%</th>\n",
       "      <td>65.000000</td>\n",
       "      <td>704.370000</td>\n",
       "      <td>761.280000</td>\n",
       "      <td>73.000000</td>\n",
       "      <td>1.863000e+05</td>\n",
       "      <td>39.970000</td>\n",
       "      <td>8.200000</td>\n",
       "      <td>2090.000000</td>\n",
       "      <td>0.200000</td>\n",
       "      <td>99.800000</td>\n",
       "      <td>...</td>\n",
       "      <td>685.420000</td>\n",
       "      <td>270.000000</td>\n",
       "      <td>161.650000</td>\n",
       "      <td>73.850000</td>\n",
       "      <td>3.850000</td>\n",
       "      <td>0.000000</td>\n",
       "      <td>5509.430000</td>\n",
       "      <td>65.930000</td>\n",
       "      <td>7.220000</td>\n",
       "      <td>0.000000</td>\n",
       "    </tr>\n",
       "    <tr>\n",
       "      <th>75%</th>\n",
       "      <td>132.000000</td>\n",
       "      <td>1223.480000</td>\n",
       "      <td>1260.370000</td>\n",
       "      <td>117.000000</td>\n",
       "      <td>3.304680e+05</td>\n",
       "      <td>52.420000</td>\n",
       "      <td>10.760000</td>\n",
       "      <td>3435.000000</td>\n",
       "      <td>0.260000</td>\n",
       "      <td>115.400000</td>\n",
       "      <td>...</td>\n",
       "      <td>1053.420000</td>\n",
       "      <td>460.980000</td>\n",
       "      <td>265.510000</td>\n",
       "      <td>125.810000</td>\n",
       "      <td>6.320000</td>\n",
       "      <td>0.000000</td>\n",
       "      <td>9521.930000</td>\n",
       "      <td>66.130000</td>\n",
       "      <td>7.840000</td>\n",
       "      <td>0.000000</td>\n",
       "    </tr>\n",
       "    <tr>\n",
       "      <th>max</th>\n",
       "      <td>32389.000000</td>\n",
       "      <td>1893.080000</td>\n",
       "      <td>2724.570000</td>\n",
       "      <td>180.000000</td>\n",
       "      <td>7.131500e+07</td>\n",
       "      <td>82.640000</td>\n",
       "      <td>24.690000</td>\n",
       "      <td>160740.000000</td>\n",
       "      <td>0.740000</td>\n",
       "      <td>901.700000</td>\n",
       "      <td>...</td>\n",
       "      <td>11949.330000</td>\n",
       "      <td>11500.000000</td>\n",
       "      <td>9593.480000</td>\n",
       "      <td>1748.130000</td>\n",
       "      <td>76.630000</td>\n",
       "      <td>1.000000</td>\n",
       "      <td>55128.460000</td>\n",
       "      <td>66.450000</td>\n",
       "      <td>15.440000</td>\n",
       "      <td>1.000000</td>\n",
       "    </tr>\n",
       "  </tbody>\n",
       "</table>\n",
       "<p>8 rows × 49 columns</p>\n",
       "</div>"
      ],
      "text/plain": [
       "                 1            2            3           4             5   \\\n",
       "count    937.000000   937.000000   937.000000  937.000000  9.370000e+02   \n",
       "mean     332.842049   698.707086   870.992209   84.121665  7.696964e+05   \n",
       "std     1931.938570   599.965577   522.799325   45.361771  3.831151e+06   \n",
       "min       10.000000     1.920000     1.000000    0.000000  7.031200e+04   \n",
       "25%       20.000000    85.270000   444.200000   54.000000  1.250000e+05   \n",
       "50%       65.000000   704.370000   761.280000   73.000000  1.863000e+05   \n",
       "75%      132.000000  1223.480000  1260.370000  117.000000  3.304680e+05   \n",
       "max    32389.000000  1893.080000  2724.570000  180.000000  7.131500e+07   \n",
       "\n",
       "               6           7              8           9           10  ...  \\\n",
       "count  937.000000  937.000000     937.000000  937.000000  937.000000  ...   \n",
       "mean    43.242721    9.127887    3940.712914    0.221003  109.892743  ...   \n",
       "std     12.718404    3.588878    8167.427625    0.090316   61.460846  ...   \n",
       "min     21.240000    0.830000     667.000000    0.020000   41.000000  ...   \n",
       "25%     33.650000    6.750000    1371.000000    0.160000   83.500000  ...   \n",
       "50%     39.970000    8.200000    2090.000000    0.200000   99.800000  ...   \n",
       "75%     52.420000   10.760000    3435.000000    0.260000  115.400000  ...   \n",
       "max     82.640000   24.690000  160740.000000    0.740000  901.700000  ...   \n",
       "\n",
       "                 40            41           42           43          44  \\\n",
       "count    937.000000    937.000000   937.000000   937.000000  937.000000   \n",
       "mean     933.928677    427.565582   255.435902   106.112519    5.014002   \n",
       "std     1001.681331    715.391648   534.306194   135.617708    5.029151   \n",
       "min        0.000000      0.000000     0.000000     0.000000    0.000000   \n",
       "25%      450.000000    180.000000    90.800000    50.120000    2.370000   \n",
       "50%      685.420000    270.000000   161.650000    73.850000    3.850000   \n",
       "75%     1053.420000    460.980000   265.510000   125.810000    6.320000   \n",
       "max    11949.330000  11500.000000  9593.480000  1748.130000   76.630000   \n",
       "\n",
       "               45            46          47          48          49  \n",
       "count  937.000000    937.000000  937.000000  937.000000  937.000000  \n",
       "mean     0.128068   7985.718004   61.694386    8.119723    0.043757  \n",
       "std      0.334344   6854.504915   10.412807    2.908895    0.204662  \n",
       "min      0.000000   2051.500000   35.950000    5.810000    0.000000  \n",
       "25%      0.000000   3760.570000   65.720000    6.340000    0.000000  \n",
       "50%      0.000000   5509.430000   65.930000    7.220000    0.000000  \n",
       "75%      0.000000   9521.930000   66.130000    7.840000    0.000000  \n",
       "max      1.000000  55128.460000   66.450000   15.440000    1.000000  \n",
       "\n",
       "[8 rows x 49 columns]"
      ]
     },
     "execution_count": 143,
     "metadata": {},
     "output_type": "execute_result"
    }
   ],
   "source": [
    "summary = df.describe()\n",
    "summary"
   ]
  },
  {
   "cell_type": "markdown",
   "metadata": {},
   "source": [
    "### Step02 : Identify the columns the contain one single value"
   ]
  },
  {
   "cell_type": "markdown",
   "metadata": {},
   "source": [
    "**Method 1** : Identify the columns with a null standard deviation(std) , which means there is only one single value"
   ]
  },
  {
   "cell_type": "code",
   "execution_count": 144,
   "metadata": {},
   "outputs": [
    {
     "name": "stdout",
     "output_type": "stream",
     "text": [
      "Columns containing a single value : [22]\n"
     ]
    }
   ],
   "source": [
    "single_value_columns = summary.columns[summary.loc[\"std\"] == 0]\n",
    "\n",
    "# Affichez les noms des colonnes contenant une seule valeur\n",
    "print(\"Columns containing a single value :\", single_value_columns.tolist())"
   ]
  },
  {
   "cell_type": "code",
   "execution_count": 157,
   "metadata": {},
   "outputs": [
    {
     "name": "stdout",
     "output_type": "stream",
     "text": [
      "1     297\n",
      "2     927\n",
      "3     933\n",
      "4     179\n",
      "5     375\n",
      "6     820\n",
      "7     618\n",
      "8     561\n",
      "9      57\n",
      "10    577\n",
      "11     59\n",
      "12     73\n",
      "13    107\n",
      "14     53\n",
      "15     91\n",
      "16    893\n",
      "17    810\n",
      "18    170\n",
      "19     53\n",
      "20     68\n",
      "21      9\n",
      "22      1\n",
      "23     92\n",
      "24      9\n",
      "25      8\n",
      "26      9\n",
      "27    308\n",
      "28    447\n",
      "29    392\n",
      "30    107\n",
      "31     42\n",
      "32      4\n",
      "33     45\n",
      "34    141\n",
      "35    110\n",
      "36      3\n",
      "37    758\n",
      "38      9\n",
      "39      9\n",
      "40    388\n",
      "41    220\n",
      "42    644\n",
      "43    649\n",
      "44    499\n",
      "45      2\n",
      "46    937\n",
      "47    169\n",
      "48    286\n",
      "49      2\n",
      "dtype: int64\n"
     ]
    }
   ],
   "source": [
    "print(df.nunique())"
   ]
  },
  {
   "cell_type": "markdown",
   "metadata": {},
   "source": [
    "**Method 2** : Use `pd.DataFrame.nunique()`"
   ]
  },
  {
   "cell_type": "code",
   "execution_count": 145,
   "metadata": {},
   "outputs": [
    {
     "name": "stdout",
     "output_type": "stream",
     "text": [
      "Columns containing a single value : [22]\n"
     ]
    }
   ],
   "source": [
    "single_value_columns2 = df.columns[df.nunique() == 1]\n",
    "print(\"Columns containing a single value :\", single_value_columns2.tolist())"
   ]
  },
  {
   "cell_type": "markdown",
   "metadata": {},
   "source": [
    "We can verify that that in the column `22`, all the rows contain the value 0"
   ]
  },
  {
   "cell_type": "code",
   "execution_count": 146,
   "metadata": {},
   "outputs": [
    {
     "data": {
      "text/plain": [
       "22\n",
       "0    937\n",
       "Name: count, dtype: int64"
      ]
     },
     "execution_count": 146,
     "metadata": {},
     "output_type": "execute_result"
    }
   ],
   "source": [
    "df[22].value_counts()"
   ]
  },
  {
   "cell_type": "code",
   "execution_count": 147,
   "metadata": {},
   "outputs": [
    {
     "name": "stdout",
     "output_type": "stream",
     "text": [
      "The columns with single value are: [22]\n"
     ]
    }
   ],
   "source": [
    "single_values = df.apply(lambda x: x.nunique() == 1, axis=0)\n",
    "print(\n",
    "    f\"The columns with single value are: {single_values[single_values].index.tolist()}\"\n",
    ")"
   ]
  },
  {
   "cell_type": "code",
   "execution_count": 148,
   "metadata": {},
   "outputs": [
    {
     "name": "stdout",
     "output_type": "stream",
     "text": [
      "THE COLUMN HAVING ONLY ON EVALUE IS : 22\n"
     ]
    }
   ],
   "source": [
    "# OU BIEN\n",
    "single_vals = [df[column_name].value_counts().to_list() for column_name in df.columns]\n",
    "for i,ls in enumerate(single_vals, start=1):\n",
    "    if len(ls) == 1:\n",
    "        print('THE COLUMN HAVING ONLY ON EVALUE IS :',i)"
   ]
  },
  {
   "cell_type": "markdown",
   "metadata": {},
   "source": [
    " Les colonnes qui ont une même valeur pour \n",
    "toutes les lignes ne contiennent aucune information \n",
    "pour la modélisation, on peut donc les enlever"
   ]
  },
  {
   "cell_type": "code",
   "execution_count": 149,
   "metadata": {},
   "outputs": [
    {
     "data": {
      "text/plain": [
       "Index([ 1,  2,  3,  4,  5,  6,  7,  8,  9, 10, 11, 12, 13, 14, 15, 16, 17, 18,\n",
       "       19, 20, 21, 23, 24, 25, 26, 27, 28, 29, 30, 31, 32, 33, 34, 35, 36, 37,\n",
       "       38, 39, 40, 41, 42, 43, 44, 45, 46, 47, 48, 49],\n",
       "      dtype='int64')"
      ]
     },
     "execution_count": 149,
     "metadata": {},
     "output_type": "execute_result"
    }
   ],
   "source": [
    "df_prun = df.drop(22, axis=1)\n",
    "df_prun.columns"
   ]
  },
  {
   "cell_type": "markdown",
   "metadata": {},
   "source": [
    " Écrire le programme Python qui charge le jeu \n",
    "de données (oil-spill.csv) et résume le nombre de \n",
    "valeurs uniques pour chaque colonne."
   ]
  },
  {
   "cell_type": "code",
   "execution_count": 150,
   "metadata": {},
   "outputs": [],
   "source": [
    "def load_data_and_unique_values(data_path: str) -> pd.core.series.Series:\n",
    "    df = pd.read_csv(data_path, header=None)\n",
    "    unique_values_summary = df.nunique()\n",
    "    return unique_values_summary"
   ]
  },
  {
   "cell_type": "code",
   "execution_count": 151,
   "metadata": {},
   "outputs": [
    {
     "name": "stdout",
     "output_type": "stream",
     "text": [
      "0     238\n",
      "1     297\n",
      "2     927\n",
      "3     933\n",
      "4     179\n",
      "5     375\n",
      "6     820\n",
      "7     618\n",
      "8     561\n",
      "9      57\n",
      "10    577\n",
      "11     59\n",
      "12     73\n",
      "13    107\n",
      "14     53\n",
      "15     91\n",
      "16    893\n",
      "17    810\n",
      "18    170\n",
      "19     53\n",
      "20     68\n",
      "21      9\n",
      "22      1\n",
      "23     92\n",
      "24      9\n",
      "25      8\n",
      "26      9\n",
      "27    308\n",
      "28    447\n",
      "29    392\n",
      "30    107\n",
      "31     42\n",
      "32      4\n",
      "33     45\n",
      "34    141\n",
      "35    110\n",
      "36      3\n",
      "37    758\n",
      "38      9\n",
      "39      9\n",
      "40    388\n",
      "41    220\n",
      "42    644\n",
      "43    649\n",
      "44    499\n",
      "45      2\n",
      "46    937\n",
      "47    169\n",
      "48    286\n",
      "49      2\n",
      "dtype: int64\n"
     ]
    }
   ],
   "source": [
    "print(load_data_and_unique_values(\"data\\\\oil-spill.csv\"))"
   ]
  },
  {
   "cell_type": "code",
   "execution_count": 152,
   "metadata": {},
   "outputs": [],
   "source": [
    "def drop_columns_with_single_value(df: pd.core.frame.DataFrame) -> pd.core.frame.DataFrame:\n",
    "    unique_values = df.nunique()\n",
    "    one_value_cols = unique_values[unique_values == 1].index\n",
    "    pruend_df = df.drop(one_value_cols, axis=1)\n",
    "    return pruend_df"
   ]
  },
  {
   "cell_type": "code",
   "execution_count": 153,
   "metadata": {},
   "outputs": [
    {
     "data": {
      "text/plain": [
       "Index([ 1,  2,  3,  4,  5,  6,  7,  8,  9, 10, 11, 12, 13, 14, 15, 16, 17, 18,\n",
       "       19, 20, 21, 22, 23, 24, 25, 26, 27, 28, 29, 30, 31, 32, 33, 34, 35, 36,\n",
       "       37, 38, 39, 40, 41, 42, 43, 44, 45, 46, 47, 48, 49],\n",
       "      dtype='int64')"
      ]
     },
     "execution_count": 153,
     "metadata": {},
     "output_type": "execute_result"
    }
   ],
   "source": [
    "df.columns"
   ]
  },
  {
   "cell_type": "code",
   "execution_count": 154,
   "metadata": {},
   "outputs": [
    {
     "data": {
      "text/plain": [
       "Index([ 1,  2,  3,  4,  5,  6,  7,  8,  9, 10, 11, 12, 13, 14, 15, 16, 17, 18,\n",
       "       19, 20, 21, 23, 24, 25, 26, 27, 28, 29, 30, 31, 32, 33, 34, 35, 36, 37,\n",
       "       38, 39, 40, 41, 42, 43, 44, 45, 46, 47, 48, 49],\n",
       "      dtype='int64')"
      ]
     },
     "execution_count": 154,
     "metadata": {},
     "output_type": "execute_result"
    }
   ],
   "source": [
    "df2 = drop_columns_with_single_value(df)\n",
    "df2.columns"
   ]
  },
  {
   "cell_type": "code",
   "execution_count": 155,
   "metadata": {},
   "outputs": [
    {
     "name": "stdout",
     "output_type": "stream",
     "text": [
      "Percentage of unique values for each variable:\n",
      "1 : 31.70%\n",
      "2 : 98.93%\n",
      "3 : 99.57%\n",
      "4 : 19.10%\n",
      "5 : 40.02%\n",
      "6 : 87.51%\n",
      "7 : 65.96%\n",
      "8 : 59.87%\n",
      "9 : 6.08%\n",
      "10 : 61.58%\n",
      "11 : 6.30%\n",
      "12 : 7.79%\n",
      "13 : 11.42%\n",
      "14 : 5.66%\n",
      "15 : 9.71%\n",
      "16 : 95.30%\n",
      "17 : 86.45%\n",
      "18 : 18.14%\n",
      "19 : 5.66%\n",
      "20 : 7.26%\n",
      "21 : 0.96%\n",
      "23 : 9.82%\n",
      "24 : 0.96%\n",
      "25 : 0.85%\n",
      "26 : 0.96%\n",
      "27 : 32.87%\n",
      "28 : 47.71%\n",
      "29 : 41.84%\n",
      "30 : 11.42%\n",
      "31 : 4.48%\n",
      "32 : 0.43%\n",
      "33 : 4.80%\n",
      "34 : 15.05%\n",
      "35 : 11.74%\n",
      "36 : 0.32%\n",
      "37 : 80.90%\n",
      "38 : 0.96%\n",
      "39 : 0.96%\n",
      "40 : 41.41%\n",
      "41 : 23.48%\n",
      "42 : 68.73%\n",
      "43 : 69.26%\n",
      "44 : 53.26%\n",
      "45 : 0.21%\n",
      "46 : 100.00%\n",
      "47 : 18.04%\n",
      "48 : 30.52%\n",
      "49 : 0.21%\n"
     ]
    }
   ],
   "source": [
    "unique_percentage = df2.nunique() / len(df2) * 100\n",
    "\n",
    "print(\"Percentage of unique values for each variable:\")\n",
    "for col in unique_percentage.index:\n",
    "    print(f\"{col} : {unique_percentage[col]:.2f}%\")"
   ]
  },
  {
   "cell_type": "code",
   "execution_count": 156,
   "metadata": {},
   "outputs": [
    {
     "name": "stdout",
     "output_type": "stream",
     "text": [
      "Columns after dropping low unique value columns:\n",
      "38\n"
     ]
    }
   ],
   "source": [
    "cols_to_drop = unique_percentage[unique_percentage < 1].index\n",
    "\n",
    "df2 = df2.drop(cols_to_drop, axis=1)\n",
    "\n",
    "print(\"Columns after dropping low unique value columns:\")\n",
    "print(len(df2.columns))"
   ]
  }
 ],
 "metadata": {
  "kernelspec": {
   "display_name": "Python 3",
   "language": "python",
   "name": "python3"
  },
  "language_info": {
   "codemirror_mode": {
    "name": "ipython",
    "version": 3
   },
   "file_extension": ".py",
   "mimetype": "text/x-python",
   "name": "python",
   "nbconvert_exporter": "python",
   "pygments_lexer": "ipython3",
   "version": "3.10.11"
  }
 },
 "nbformat": 4,
 "nbformat_minor": 2
}
